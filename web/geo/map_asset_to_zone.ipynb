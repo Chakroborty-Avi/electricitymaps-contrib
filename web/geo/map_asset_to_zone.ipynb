{
 "cells": [
  {
   "cell_type": "code",
   "execution_count": 39,
   "metadata": {},
   "outputs": [],
   "source": [
    "import geopandas as gpd\n",
    "import pandas as pd\n",
    "import json\n",
    "from shapely.geometry import Point\n",
    "from tqdm import tqdm"
   ]
  },
  {
   "cell_type": "code",
   "execution_count": 18,
   "metadata": {},
   "outputs": [],
   "source": [
    "world_gpd = gpd.read_file(\"world.geojson\")"
   ]
  },
  {
   "cell_type": "code",
   "execution_count": 3,
   "metadata": {},
   "outputs": [],
   "source": [
    "import json\n",
    "\n",
    "with open(\"world.geojson\", \"r\") as f:\n",
    "    world = json.load(f)\n",
    "\n",
    "with open(\"wind_assets.geojson\", \"r\") as f:\n",
    "    wind_assets = json.load(f)\n",
    "\n",
    "with open(\"solar_assets.geojson\", \"r\") as f:\n",
    "    solar_assets = json.load(f)"
   ]
  },
  {
   "cell_type": "code",
   "execution_count": 48,
   "metadata": {},
   "outputs": [
    {
     "name": "stderr",
     "output_type": "stream",
     "text": [
      "100%|██████████| 11332/11332 [00:05<00:00, 2104.60it/s]\n"
     ]
    }
   ],
   "source": [
    "assets_in_no_zone = []\n",
    "\n",
    "for solar_asset in tqdm(solar_assets[\"features\"]):\n",
    "    location = Point(solar_asset[\"geometry\"][\"coordinates\"])\n",
    "    containing_features = world_gpd[world_gpd.geometry.contains(location)]\n",
    "    if len(containing_features) != 1:\n",
    "        assets_in_no_zone.append(solar_asset)\n",
    "        solar_asset[\"properties\"][\"zone\"] = None\n",
    "        continue\n",
    "    else:\n",
    "        zone = containing_features[\"zoneName\"].values[0]\n",
    "        solar_asset[\"properties\"][\"zone\"] = zone"
   ]
  },
  {
   "cell_type": "code",
   "execution_count": 51,
   "metadata": {},
   "outputs": [
    {
     "name": "stdout",
     "output_type": "stream",
     "text": [
      "Share of unassigned assets: 0.010854218143310978\n"
     ]
    }
   ],
   "source": [
    "print(f\"Share of unassigned assets: {len(assets_in_no_zone)/len(solar_assets['features'])}\")"
   ]
  }
 ],
 "metadata": {
  "kernelspec": {
   "display_name": ".venv",
   "language": "python",
   "name": "python3"
  },
  "language_info": {
   "codemirror_mode": {
    "name": "ipython",
    "version": 3
   },
   "file_extension": ".py",
   "mimetype": "text/x-python",
   "name": "python",
   "nbconvert_exporter": "python",
   "pygments_lexer": "ipython3",
   "version": "3.10.13"
  }
 },
 "nbformat": 4,
 "nbformat_minor": 2
}
